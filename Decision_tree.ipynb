{
  "nbformat": 4,
  "nbformat_minor": 0,
  "metadata": {
    "colab": {
      "name": "Decision tree.ipynb",
      "provenance": [],
      "collapsed_sections": []
    },
    "kernelspec": {
      "name": "python3",
      "display_name": "Python 3"
    },
    "language_info": {
      "name": "python"
    }
  },
  "cells": [
    {
      "cell_type": "code",
      "execution_count": 2,
      "metadata": {
        "id": "sgxKPmmjP95B"
      },
      "outputs": [],
      "source": [
        "import pandas as pd\n",
        "from sklearn.model_selection import train_test_split\n",
        "df=pd.read_csv(\"./diabetes.csv\")\n",
        "df.head()\n",
        "X=df.drop(\"Outcome\",axis=1)\n",
        "y=df[\"Outcome\"]\n",
        "a=[\"Pregnancies\",\"Glucose\",\"BloodPressure\",\"SkinThickness\",\"Insulin\",\"BMI\",\"DiabetesPedigreeFunction\",\"Age\"]\n",
        "b=[\"Not\" ,\"Diabetic\"]"
      ]
    },
    {
      "cell_type": "code",
      "source": [
        "from sklearn.model_selection import train_test_split\n",
        "from sklearn.tree import DecisionTreeClassifier\n",
        "\n",
        "X_train, X_test, y_train, y_test = train_test_split(X, y,random_state = 50, test_size = 0.25)\n",
        "classifier = DecisionTreeClassifier()\n",
        "classifier.fit(X_train, y_train)"
      ],
      "metadata": {
        "colab": {
          "base_uri": "https://localhost:8080/"
        },
        "id": "TxETaNRqQJGP",
        "outputId": "e6b8a87c-ca55-4beb-d41d-71ceea101c4f"
      },
      "execution_count": 3,
      "outputs": [
        {
          "output_type": "execute_result",
          "data": {
            "text/plain": [
              "DecisionTreeClassifier()"
            ]
          },
          "metadata": {},
          "execution_count": 3
        }
      ]
    },
    {
      "cell_type": "code",
      "source": [
        "y_pred = classifier.predict(X_test)\n",
        "from sklearn.metrics import accuracy_score\n",
        "print('Accuracy on train data : ',accuracy_score(y_train, y_pred = classifier.predict(X_train)))\n",
        "print('Accuracy on test data : ',accuracy_score(y_test,y_pred))"
      ],
      "metadata": {
        "colab": {
          "base_uri": "https://localhost:8080/"
        },
        "id": "dlg6CRipQLdH",
        "outputId": "11ecbaaf-ff37-45cc-fb32-3e40479a8d3d"
      },
      "execution_count": 4,
      "outputs": [
        {
          "output_type": "stream",
          "name": "stdout",
          "text": [
            "Accuracy on train data :  1.0\n",
            "Accuracy on test data :  0.703125\n"
          ]
        }
      ]
    },
    {
      "cell_type": "code",
      "source": [
        "classifier_entropy = DecisionTreeClassifier(criterion='entropy')\n",
        "classifier_entropy.fit(X_train, y_train)\n",
        "y_pred_entropy = classifier_entropy.predict(X_test)\n",
        "print('Accuracy on train data using entropy', accuracy_score(y_train, y_pred = classifier_entropy.predict(X_train)))\n",
        "print('Accuracy on test data using entropy', accuracy_score(y_test,y_pred_entropy))"
      ],
      "metadata": {
        "colab": {
          "base_uri": "https://localhost:8080/"
        },
        "id": "qggTYbRSQOiI",
        "outputId": "b673d08b-f08d-4424-99ee-cbdd33e5034c"
      },
      "execution_count": 5,
      "outputs": [
        {
          "output_type": "stream",
          "name": "stdout",
          "text": [
            "Accuracy on train data using entropy 1.0\n",
            "Accuracy on test data using entropy 0.71875\n"
          ]
        }
      ]
    }
  ]
}