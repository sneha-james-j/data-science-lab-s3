{
  "nbformat": 4,
  "nbformat_minor": 0,
  "metadata": {
    "colab": {
      "name": "cm_cr.ipynb",
      "provenance": [],
      "collapsed_sections": []
    },
    "kernelspec": {
      "name": "python3",
      "display_name": "Python 3"
    },
    "language_info": {
      "name": "python"
    }
  },
  "cells": [
    {
      "cell_type": "code",
      "execution_count": 1,
      "metadata": {
        "colab": {
          "base_uri": "https://localhost:8080/"
        },
        "id": "8_GH7HnvWhMn",
        "outputId": "5a7d358c-4408-452e-cf03-d60c62d79c9e"
      },
      "outputs": [
        {
          "output_type": "stream",
          "name": "stdout",
          "text": [
            "0.6883116883116883\n"
          ]
        }
      ],
      "source": [
        "#generate classification reprot and confusion metrics of dataset diabetes using knn\n",
        "from sklearn.neighbors import KNeighborsClassifier\n",
        "from sklearn.model_selection import train_test_split\n",
        "import pandas as pd\n",
        "ds=pd.read_csv(\"./diabetes.csv\")\n",
        "x=ds.drop(\"Outcome\",axis=1)\n",
        "y=ds[\"Outcome\"]\n",
        "x_train, x_test, y_train, y_test = train_test_split(x, y, test_size = 0.2, random_state=42)\n",
        "knn = KNeighborsClassifier(n_neighbors=7)\n",
        "knn.fit(x_train, y_train)\n",
        "y_pred=knn.predict(x_test)\n",
        "from sklearn.metrics import accuracy_score\n",
        "ac = accuracy_score(y_test,y_pred)\n",
        "print(ac)"
      ]
    },
    {
      "cell_type": "code",
      "source": [
        "from sklearn.metrics import confusion_matrix\n",
        "from sklearn.metrics import classification_report\n",
        "m=confusion_matrix(y_test,y_pred)\n",
        "print(\"confusion metrics:\\n\",m)\n",
        "cr=classification_report(y_test,y_pred)\n",
        "print(\"classification report:\\n\",cr)"
      ],
      "metadata": {
        "colab": {
          "base_uri": "https://localhost:8080/"
        },
        "id": "GD7acaNcWmGy",
        "outputId": "6cdca810-6e95-4951-9bf4-b168e2c5e5ff"
      },
      "execution_count": 2,
      "outputs": [
        {
          "output_type": "stream",
          "name": "stdout",
          "text": [
            "confusion metrics:\n",
            " [[72 27]\n",
            " [21 34]]\n",
            "classification report:\n",
            "               precision    recall  f1-score   support\n",
            "\n",
            "           0       0.77      0.73      0.75        99\n",
            "           1       0.56      0.62      0.59        55\n",
            "\n",
            "    accuracy                           0.69       154\n",
            "   macro avg       0.67      0.67      0.67       154\n",
            "weighted avg       0.70      0.69      0.69       154\n",
            "\n"
          ]
        }
      ]
    }
  ]
}