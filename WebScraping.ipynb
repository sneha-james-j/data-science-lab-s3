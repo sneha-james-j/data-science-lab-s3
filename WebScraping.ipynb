{
  "nbformat": 4,
  "nbformat_minor": 0,
  "metadata": {
    "colab": {
      "name": "WebScraping.ipynb",
      "provenance": []
    },
    "kernelspec": {
      "name": "python3",
      "display_name": "Python 3"
    },
    "language_info": {
      "name": "python"
    }
  },
  "cells": [
    {
      "cell_type": "markdown",
      "source": [
        "AIM: Implement Web Scrapping using Python"
      ],
      "metadata": {
        "id": "u5lgPFHtUfEP"
      }
    },
    {
      "cell_type": "code",
      "execution_count": 1,
      "metadata": {
        "colab": {
          "base_uri": "https://localhost:8080/"
        },
        "id": "7ewuN6RwUHw8",
        "outputId": "1683c890-97e0-4c96-81c9-1b22f5f4abb9"
      },
      "outputs": [
        {
          "output_type": "stream",
          "name": "stdout",
          "text": [
            "Collecting autoscraper\n",
            "  Downloading autoscraper-1.1.12-py3-none-any.whl (10 kB)\n",
            "Requirement already satisfied: requests in /usr/local/lib/python3.7/dist-packages (from autoscraper) (2.23.0)\n",
            "Requirement already satisfied: bs4 in /usr/local/lib/python3.7/dist-packages (from autoscraper) (0.0.1)\n",
            "Requirement already satisfied: lxml in /usr/local/lib/python3.7/dist-packages (from autoscraper) (4.2.6)\n",
            "Requirement already satisfied: beautifulsoup4 in /usr/local/lib/python3.7/dist-packages (from bs4->autoscraper) (4.6.3)\n",
            "Requirement already satisfied: certifi>=2017.4.17 in /usr/local/lib/python3.7/dist-packages (from requests->autoscraper) (2021.10.8)\n",
            "Requirement already satisfied: chardet<4,>=3.0.2 in /usr/local/lib/python3.7/dist-packages (from requests->autoscraper) (3.0.4)\n",
            "Requirement already satisfied: idna<3,>=2.5 in /usr/local/lib/python3.7/dist-packages (from requests->autoscraper) (2.10)\n",
            "Requirement already satisfied: urllib3!=1.25.0,!=1.25.1,<1.26,>=1.21.1 in /usr/local/lib/python3.7/dist-packages (from requests->autoscraper) (1.24.3)\n",
            "Installing collected packages: autoscraper\n",
            "Successfully installed autoscraper-1.1.12\n"
          ]
        }
      ],
      "source": [
        "pip install autoscraper"
      ]
    },
    {
      "cell_type": "code",
      "source": [
        "from autoscraper import AutoScraper\n",
        "url=\"http://oxylabs.io/blog/python-web-scraping\"\n",
        "wanted_list=['Purpose']\n",
        "Scraper=AutoScraper()\n",
        "result=Scraper.build(url,wanted_list)\n",
        "print(result)"
      ],
      "metadata": {
        "colab": {
          "base_uri": "https://localhost:8080/"
        },
        "id": "81fR_r1CUU8P",
        "outputId": "80a07cf6-e7be-41bf-bb08-142d60957ec9"
      },
      "execution_count": 2,
      "outputs": [
        {
          "output_type": "stream",
          "name": "stdout",
          "text": [
            "['Purpose', 'Ease-of-use', 'Speed', 'Learning Curve', 'Documentation', 'JavaScript Support', 'CPU and Memory Usage', 'Size of Web Scraping Project Supported']\n"
          ]
        }
      ]
    }
  ]
}