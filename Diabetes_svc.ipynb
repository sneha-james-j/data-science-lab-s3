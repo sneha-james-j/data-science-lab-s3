{
  "nbformat": 4,
  "nbformat_minor": 0,
  "metadata": {
    "colab": {
      "name": "Diabetes_svc.ipynb",
      "provenance": [],
      "collapsed_sections": []
    },
    "kernelspec": {
      "name": "python3",
      "display_name": "Python 3"
    },
    "language_info": {
      "name": "python"
    }
  },
  "cells": [
    {
      "cell_type": "code",
      "execution_count": 1,
      "metadata": {
        "colab": {
          "base_uri": "https://localhost:8080/"
        },
        "id": "OuOEniKBY6ak",
        "outputId": "db7b9a4f-516c-4957-82f4-ff49bf207fa5"
      },
      "outputs": [
        {
          "output_type": "execute_result",
          "data": {
            "text/plain": [
              "0      1\n",
              "1      0\n",
              "2      1\n",
              "3      0\n",
              "4      1\n",
              "      ..\n",
              "763    0\n",
              "764    0\n",
              "765    0\n",
              "766    1\n",
              "767    0\n",
              "Name: Outcome, Length: 768, dtype: int64"
            ]
          },
          "metadata": {},
          "execution_count": 1
        }
      ],
      "source": [
        "#implementation svm classification using diabetes dataset\n",
        "import pandas as pd\n",
        "df=pd.read_csv(\"./diabetes.csv\")\n",
        "df.head()\n",
        "X = df.drop(\"Outcome\",axis=1) \n",
        "Y = df[\"Outcome\"]\n",
        "Y"
      ]
    },
    {
      "cell_type": "code",
      "source": [
        "from sklearn.model_selection import train_test_split\n",
        "X_train, X_test, Y_train, Y_test = train_test_split(X, Y, test_size = 0.2, random_state=100)\n",
        "from sklearn.svm import SVC\n",
        "c=SVC(kernel='linear')\n",
        "c.fit(X_train, Y_train)\n",
        "Y_pred=c.predict(X_test)\n",
        "print(Y_pred)\n",
        "from sklearn.metrics import accuracy_score\n",
        "accuracy = accuracy_score(Y_test,Y_pred)\n",
        "print(accuracy)"
      ],
      "metadata": {
        "colab": {
          "base_uri": "https://localhost:8080/"
        },
        "id": "H6_tYZNIY-1b",
        "outputId": "e8fdeb15-0d22-4ee2-e88a-6ca6f7c23501"
      },
      "execution_count": 2,
      "outputs": [
        {
          "output_type": "stream",
          "name": "stdout",
          "text": [
            "[0 0 1 0 0 1 1 0 1 0 0 1 0 0 1 0 0 0 1 0 0 0 1 1 0 1 1 0 0 1 0 1 0 1 0 0 1\n",
            " 0 0 0 0 1 0 0 0 1 0 0 1 1 0 0 0 1 1 1 0 0 1 0 0 0 0 0 0 0 0 0 0 0 0 1 0 0\n",
            " 0 0 0 1 0 1 0 0 0 0 0 0 0 0 1 1 0 0 1 0 0 1 0 1 0 0 1 0 1 0 0 1 1 0 0 1 0\n",
            " 0 1 0 0 0 1 0 0 0 0 1 0 0 0 0 0 0 0 0 0 1 1 0 0 1 0 0 0 0 1 1 0 1 0 0 0 0\n",
            " 0 0 0 0 0 0]\n",
            "0.7402597402597403\n"
          ]
        }
      ]
    },
    {
      "cell_type": "code",
      "source": [
        "from sklearn.metrics import confusion_matrix\n",
        "from sklearn.metrics import classification_report\n",
        "metrics=confusion_matrix(Y_test,Y_pred)\n",
        "print(\"confusion_matrix:\\n\", metrics)"
      ],
      "metadata": {
        "colab": {
          "base_uri": "https://localhost:8080/"
        },
        "id": "o5kFngjmZBiP",
        "outputId": "d45fc815-bf11-42b8-a325-fab20404e727"
      },
      "execution_count": 3,
      "outputs": [
        {
          "output_type": "stream",
          "name": "stdout",
          "text": [
            "confusion_matrix:\n",
            " [[85 16]\n",
            " [24 29]]\n"
          ]
        }
      ]
    }
  ]
}